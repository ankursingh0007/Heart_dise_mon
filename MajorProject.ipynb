{
  "cells": [
    {
      "cell_type": "code",
      "execution_count": null,
      "metadata": {
        "id": "VhHlydcqsBV_"
      },
      "outputs": [],
      "source": [
        "import pandas as pd"
      ]
    },
    {
      "cell_type": "code",
      "execution_count": null,
      "metadata": {
        "id": "tigGTX4PtbY8",
        "outputId": "9ef8c032-aca5-4738-8e70-82ef2089b5fa",
        "colab": {
          "base_uri": "https://localhost:8080/",
          "height": 304
        }
      },
      "outputs": [
        {
          "output_type": "error",
          "ename": "FileNotFoundError",
          "evalue": "[Errno 2] No such file or directory: 'HeartDisease.csv'",
          "traceback": [
            "\u001b[0;31m---------------------------------------------------------------------------\u001b[0m",
            "\u001b[0;31mFileNotFoundError\u001b[0m                         Traceback (most recent call last)",
            "\u001b[0;32m<ipython-input-2-3b1d55a86b4e>\u001b[0m in \u001b[0;36m<cell line: 1>\u001b[0;34m()\u001b[0m\n\u001b[0;32m----> 1\u001b[0;31m \u001b[0mdisease\u001b[0m\u001b[0;34m=\u001b[0m\u001b[0mpd\u001b[0m\u001b[0;34m.\u001b[0m\u001b[0mread_csv\u001b[0m\u001b[0;34m(\u001b[0m\u001b[0;34m\"HeartDisease.csv\"\u001b[0m\u001b[0;34m)\u001b[0m\u001b[0;34m\u001b[0m\u001b[0;34m\u001b[0m\u001b[0m\n\u001b[0m",
            "\u001b[0;32m/usr/local/lib/python3.10/dist-packages/pandas/io/parsers/readers.py\u001b[0m in \u001b[0;36mread_csv\u001b[0;34m(filepath_or_buffer, sep, delimiter, header, names, index_col, usecols, dtype, engine, converters, true_values, false_values, skipinitialspace, skiprows, skipfooter, nrows, na_values, keep_default_na, na_filter, verbose, skip_blank_lines, parse_dates, infer_datetime_format, keep_date_col, date_parser, date_format, dayfirst, cache_dates, iterator, chunksize, compression, thousands, decimal, lineterminator, quotechar, quoting, doublequote, escapechar, comment, encoding, encoding_errors, dialect, on_bad_lines, delim_whitespace, low_memory, memory_map, float_precision, storage_options, dtype_backend)\u001b[0m\n\u001b[1;32m    910\u001b[0m     \u001b[0mkwds\u001b[0m\u001b[0;34m.\u001b[0m\u001b[0mupdate\u001b[0m\u001b[0;34m(\u001b[0m\u001b[0mkwds_defaults\u001b[0m\u001b[0;34m)\u001b[0m\u001b[0;34m\u001b[0m\u001b[0;34m\u001b[0m\u001b[0m\n\u001b[1;32m    911\u001b[0m \u001b[0;34m\u001b[0m\u001b[0m\n\u001b[0;32m--> 912\u001b[0;31m     \u001b[0;32mreturn\u001b[0m \u001b[0m_read\u001b[0m\u001b[0;34m(\u001b[0m\u001b[0mfilepath_or_buffer\u001b[0m\u001b[0;34m,\u001b[0m \u001b[0mkwds\u001b[0m\u001b[0;34m)\u001b[0m\u001b[0;34m\u001b[0m\u001b[0;34m\u001b[0m\u001b[0m\n\u001b[0m\u001b[1;32m    913\u001b[0m \u001b[0;34m\u001b[0m\u001b[0m\n\u001b[1;32m    914\u001b[0m \u001b[0;34m\u001b[0m\u001b[0m\n",
            "\u001b[0;32m/usr/local/lib/python3.10/dist-packages/pandas/io/parsers/readers.py\u001b[0m in \u001b[0;36m_read\u001b[0;34m(filepath_or_buffer, kwds)\u001b[0m\n\u001b[1;32m    575\u001b[0m \u001b[0;34m\u001b[0m\u001b[0m\n\u001b[1;32m    576\u001b[0m     \u001b[0;31m# Create the parser.\u001b[0m\u001b[0;34m\u001b[0m\u001b[0;34m\u001b[0m\u001b[0m\n\u001b[0;32m--> 577\u001b[0;31m     \u001b[0mparser\u001b[0m \u001b[0;34m=\u001b[0m \u001b[0mTextFileReader\u001b[0m\u001b[0;34m(\u001b[0m\u001b[0mfilepath_or_buffer\u001b[0m\u001b[0;34m,\u001b[0m \u001b[0;34m**\u001b[0m\u001b[0mkwds\u001b[0m\u001b[0;34m)\u001b[0m\u001b[0;34m\u001b[0m\u001b[0;34m\u001b[0m\u001b[0m\n\u001b[0m\u001b[1;32m    578\u001b[0m \u001b[0;34m\u001b[0m\u001b[0m\n\u001b[1;32m    579\u001b[0m     \u001b[0;32mif\u001b[0m \u001b[0mchunksize\u001b[0m \u001b[0;32mor\u001b[0m \u001b[0miterator\u001b[0m\u001b[0;34m:\u001b[0m\u001b[0;34m\u001b[0m\u001b[0;34m\u001b[0m\u001b[0m\n",
            "\u001b[0;32m/usr/local/lib/python3.10/dist-packages/pandas/io/parsers/readers.py\u001b[0m in \u001b[0;36m__init__\u001b[0;34m(self, f, engine, **kwds)\u001b[0m\n\u001b[1;32m   1405\u001b[0m \u001b[0;34m\u001b[0m\u001b[0m\n\u001b[1;32m   1406\u001b[0m         \u001b[0mself\u001b[0m\u001b[0;34m.\u001b[0m\u001b[0mhandles\u001b[0m\u001b[0;34m:\u001b[0m \u001b[0mIOHandles\u001b[0m \u001b[0;34m|\u001b[0m \u001b[0;32mNone\u001b[0m \u001b[0;34m=\u001b[0m \u001b[0;32mNone\u001b[0m\u001b[0;34m\u001b[0m\u001b[0;34m\u001b[0m\u001b[0m\n\u001b[0;32m-> 1407\u001b[0;31m         \u001b[0mself\u001b[0m\u001b[0;34m.\u001b[0m\u001b[0m_engine\u001b[0m \u001b[0;34m=\u001b[0m \u001b[0mself\u001b[0m\u001b[0;34m.\u001b[0m\u001b[0m_make_engine\u001b[0m\u001b[0;34m(\u001b[0m\u001b[0mf\u001b[0m\u001b[0;34m,\u001b[0m \u001b[0mself\u001b[0m\u001b[0;34m.\u001b[0m\u001b[0mengine\u001b[0m\u001b[0;34m)\u001b[0m\u001b[0;34m\u001b[0m\u001b[0;34m\u001b[0m\u001b[0m\n\u001b[0m\u001b[1;32m   1408\u001b[0m \u001b[0;34m\u001b[0m\u001b[0m\n\u001b[1;32m   1409\u001b[0m     \u001b[0;32mdef\u001b[0m \u001b[0mclose\u001b[0m\u001b[0;34m(\u001b[0m\u001b[0mself\u001b[0m\u001b[0;34m)\u001b[0m \u001b[0;34m->\u001b[0m \u001b[0;32mNone\u001b[0m\u001b[0;34m:\u001b[0m\u001b[0;34m\u001b[0m\u001b[0;34m\u001b[0m\u001b[0m\n",
            "\u001b[0;32m/usr/local/lib/python3.10/dist-packages/pandas/io/parsers/readers.py\u001b[0m in \u001b[0;36m_make_engine\u001b[0;34m(self, f, engine)\u001b[0m\n\u001b[1;32m   1659\u001b[0m                 \u001b[0;32mif\u001b[0m \u001b[0;34m\"b\"\u001b[0m \u001b[0;32mnot\u001b[0m \u001b[0;32min\u001b[0m \u001b[0mmode\u001b[0m\u001b[0;34m:\u001b[0m\u001b[0;34m\u001b[0m\u001b[0;34m\u001b[0m\u001b[0m\n\u001b[1;32m   1660\u001b[0m                     \u001b[0mmode\u001b[0m \u001b[0;34m+=\u001b[0m \u001b[0;34m\"b\"\u001b[0m\u001b[0;34m\u001b[0m\u001b[0;34m\u001b[0m\u001b[0m\n\u001b[0;32m-> 1661\u001b[0;31m             self.handles = get_handle(\n\u001b[0m\u001b[1;32m   1662\u001b[0m                 \u001b[0mf\u001b[0m\u001b[0;34m,\u001b[0m\u001b[0;34m\u001b[0m\u001b[0;34m\u001b[0m\u001b[0m\n\u001b[1;32m   1663\u001b[0m                 \u001b[0mmode\u001b[0m\u001b[0;34m,\u001b[0m\u001b[0;34m\u001b[0m\u001b[0;34m\u001b[0m\u001b[0m\n",
            "\u001b[0;32m/usr/local/lib/python3.10/dist-packages/pandas/io/common.py\u001b[0m in \u001b[0;36mget_handle\u001b[0;34m(path_or_buf, mode, encoding, compression, memory_map, is_text, errors, storage_options)\u001b[0m\n\u001b[1;32m    857\u001b[0m         \u001b[0;32mif\u001b[0m \u001b[0mioargs\u001b[0m\u001b[0;34m.\u001b[0m\u001b[0mencoding\u001b[0m \u001b[0;32mand\u001b[0m \u001b[0;34m\"b\"\u001b[0m \u001b[0;32mnot\u001b[0m \u001b[0;32min\u001b[0m \u001b[0mioargs\u001b[0m\u001b[0;34m.\u001b[0m\u001b[0mmode\u001b[0m\u001b[0;34m:\u001b[0m\u001b[0;34m\u001b[0m\u001b[0;34m\u001b[0m\u001b[0m\n\u001b[1;32m    858\u001b[0m             \u001b[0;31m# Encoding\u001b[0m\u001b[0;34m\u001b[0m\u001b[0;34m\u001b[0m\u001b[0m\n\u001b[0;32m--> 859\u001b[0;31m             handle = open(\n\u001b[0m\u001b[1;32m    860\u001b[0m                 \u001b[0mhandle\u001b[0m\u001b[0;34m,\u001b[0m\u001b[0;34m\u001b[0m\u001b[0;34m\u001b[0m\u001b[0m\n\u001b[1;32m    861\u001b[0m                 \u001b[0mioargs\u001b[0m\u001b[0;34m.\u001b[0m\u001b[0mmode\u001b[0m\u001b[0;34m,\u001b[0m\u001b[0;34m\u001b[0m\u001b[0;34m\u001b[0m\u001b[0m\n",
            "\u001b[0;31mFileNotFoundError\u001b[0m: [Errno 2] No such file or directory: 'HeartDisease.csv'"
          ]
        }
      ],
      "source": [
        "disease=pd.read_csv(\"HeartDisease.csv\")\n"
      ]
    },
    {
      "cell_type": "code",
      "source": [
        "from google.colab import drive\n",
        "drive.mount('/content/drive')"
      ],
      "metadata": {
        "id": "L3eFzSCnjlgR"
      },
      "execution_count": null,
      "outputs": []
    },
    {
      "cell_type": "code",
      "execution_count": null,
      "metadata": {
        "id": "leJ6RS2qudPY"
      },
      "outputs": [],
      "source": [
        "import numpy as np"
      ]
    },
    {
      "cell_type": "markdown",
      "source": [],
      "metadata": {
        "id": "uaJLsbkCjqJZ"
      }
    },
    {
      "cell_type": "code",
      "execution_count": null,
      "metadata": {
        "id": "VU7QY0N-wMK_"
      },
      "outputs": [],
      "source": [
        "print(disease)"
      ]
    },
    {
      "cell_type": "code",
      "execution_count": null,
      "metadata": {
        "id": "d7mUZv_CwkNO"
      },
      "outputs": [],
      "source": [
        "disease.head()"
      ]
    },
    {
      "cell_type": "code",
      "execution_count": null,
      "metadata": {
        "id": "iFbzca8UxBM9"
      },
      "outputs": [],
      "source": [
        "disease.tail()"
      ]
    },
    {
      "cell_type": "code",
      "execution_count": null,
      "metadata": {
        "id": "xcShrR-JxusY"
      },
      "outputs": [],
      "source": [
        "disease.info()"
      ]
    },
    {
      "cell_type": "code",
      "execution_count": null,
      "metadata": {
        "id": "Lu1LV4W-y_eu"
      },
      "outputs": [],
      "source": [
        "disease.describe()"
      ]
    },
    {
      "cell_type": "code",
      "execution_count": null,
      "metadata": {
        "id": "-kPA9P152hIb"
      },
      "outputs": [],
      "source": [
        "disease['glucose'] = disease['glucose'].fillna(disease['glucose'].mean())"
      ]
    },
    {
      "cell_type": "code",
      "execution_count": null,
      "metadata": {
        "id": "Vwjp38F14Nwg"
      },
      "outputs": [],
      "source": [
        "disease['education'] = disease['education'].fillna(disease['education'].mean())\n"
      ]
    },
    {
      "cell_type": "code",
      "execution_count": null,
      "metadata": {
        "id": "9oYoPh7f5Q35"
      },
      "outputs": [],
      "source": [
        "disease['BPMeds'] = disease['BPMeds'].fillna(disease['BPMeds'].mean())\n"
      ]
    },
    {
      "cell_type": "code",
      "execution_count": null,
      "metadata": {
        "id": "pcsWAYZb5gVc"
      },
      "outputs": [],
      "source": [
        "disease['totChol'] = disease['totChol'].fillna(disease['totChol'].mean())\n"
      ]
    },
    {
      "cell_type": "code",
      "execution_count": null,
      "metadata": {
        "id": "qbR4SDa65oR2"
      },
      "outputs": [],
      "source": [
        "disease['diabetes'] = disease['diabetes'].fillna(disease['diabetes'].mean())\n"
      ]
    },
    {
      "cell_type": "code",
      "execution_count": null,
      "metadata": {
        "id": "mmgdA9-N53t-"
      },
      "outputs": [],
      "source": [
        "disease['BMI'] = disease['BMI'].fillna(disease['BMI'].mean())\n"
      ]
    },
    {
      "cell_type": "code",
      "execution_count": null,
      "metadata": {
        "id": "1nSaeAGT5-A2"
      },
      "outputs": [],
      "source": [
        "disease['cigsPerDay'] = disease['cigsPerDay'].fillna(disease['cigsPerDay'].mean())\n"
      ]
    },
    {
      "cell_type": "code",
      "execution_count": null,
      "metadata": {
        "id": "cHy2_fME5_0y"
      },
      "outputs": [],
      "source": [
        "disease['heartRate'] = disease['heartRate'].fillna(disease['heartRate'].mean())\n"
      ]
    },
    {
      "cell_type": "code",
      "execution_count": null,
      "metadata": {
        "id": "Swgya7Sc74Hf"
      },
      "outputs": [],
      "source": [
        "disease.info()"
      ]
    },
    {
      "cell_type": "code",
      "execution_count": null,
      "metadata": {
        "id": "W1OpbXD28lGs"
      },
      "outputs": [],
      "source": [
        "disease['heartRate'].value_counts()"
      ]
    },
    {
      "cell_type": "code",
      "execution_count": null,
      "metadata": {
        "id": "LD3sV6Tl9tRD"
      },
      "outputs": [],
      "source": [
        "disease['totChol'].value_counts()"
      ]
    },
    {
      "cell_type": "code",
      "execution_count": null,
      "metadata": {
        "id": "Vs_zOh1T9-fX"
      },
      "outputs": [],
      "source": [
        "disease['currentSmoker'].value_counts()"
      ]
    },
    {
      "cell_type": "code",
      "execution_count": null,
      "metadata": {
        "id": "h37XqJaS-F4V"
      },
      "outputs": [],
      "source": [
        "disease['cigsPerDay'].value_counts()"
      ]
    },
    {
      "cell_type": "code",
      "execution_count": null,
      "metadata": {
        "id": "LUP0WL6DAGJ-"
      },
      "outputs": [],
      "source": [
        "disease['BPMeds'].value_counts()"
      ]
    },
    {
      "cell_type": "code",
      "execution_count": null,
      "metadata": {
        "id": "M4i1D7FPAL38"
      },
      "outputs": [],
      "source": [
        "disease['prevalentStroke'].value_counts()"
      ]
    },
    {
      "cell_type": "code",
      "execution_count": null,
      "metadata": {
        "id": "c81605k2AhYj"
      },
      "outputs": [],
      "source": [
        "disease['diabetes'].value_counts()"
      ]
    },
    {
      "cell_type": "code",
      "execution_count": null,
      "metadata": {
        "id": "isskLdMmAici"
      },
      "outputs": [],
      "source": [
        "disease['sysBP'].value_counts()"
      ]
    },
    {
      "cell_type": "code",
      "execution_count": null,
      "metadata": {
        "id": "RXrgYuP5AjN0"
      },
      "outputs": [],
      "source": [
        "disease['diaBP'].value_counts()"
      ]
    },
    {
      "cell_type": "code",
      "execution_count": null,
      "metadata": {
        "id": "CslI8hjLA45U"
      },
      "outputs": [],
      "source": [
        "disease['BMI'].value_counts()"
      ]
    },
    {
      "cell_type": "code",
      "execution_count": null,
      "metadata": {
        "id": "yjm0AofyA_4W"
      },
      "outputs": [],
      "source": [
        "disease['glucose'].value_counts()"
      ]
    },
    {
      "cell_type": "code",
      "execution_count": null,
      "metadata": {
        "id": "5OmB84BOBJJO"
      },
      "outputs": [],
      "source": [
        "disease['TenYearCHD'].value_counts()"
      ]
    },
    {
      "cell_type": "code",
      "execution_count": null,
      "metadata": {
        "id": "vuJ600XLWg8J"
      },
      "outputs": [],
      "source": [
        "import matplotlib.pyplot as plt\n",
        "import seaborn as sns\n",
        "import numpy as np\n",
        "data = np.random.rand(16,16)\n",
        "row_names=['male','age','education','currentSmoker','cigsPerDay','BPMeds','prevalentStroke','prevalentHyp','diabetes','totChol','sysBP','diaBP','BMI','heartRate','glucose','TenYearCHD']\n",
        "plt.figure(figsize=(15,10))\n",
        "sns.heatmap(data,annot=True,cmap='magma',yticklabels=row_names,xticklabels=row_names)\n",
        "plt.xlabel('X-axis')\n",
        "plt.ylabel('Y-axis')\n",
        "plt.title('Heatmap')\n",
        "plt.show()"
      ]
    },
    {
      "cell_type": "code",
      "execution_count": null,
      "metadata": {
        "id": "Jteyw16DB3Lo"
      },
      "outputs": [],
      "source": [
        "print(disease.columns)\n",
        "fig = plt.figure(figsize=(17, 6))\n",
        "sns.barplot(x='age', y='heartRate', data=disease)\n",
        "plt.xlabel('Age')\n",
        "plt.ylabel('Heart Rate')\n",
        "\n",
        "plt.title('Relationship between Age and Heart Rate')\n",
        "plt.show()"
      ]
    },
    {
      "cell_type": "code",
      "execution_count": null,
      "metadata": {
        "id": "0LpCaz70H_5U"
      },
      "outputs": [],
      "source": [
        "print(disease.columns)\n",
        "fig = plt.figure(figsize=(17, 6))\n",
        "sns.barplot(x='diabetes',y='glucose', data=disease)\n",
        "plt.xlabel('Diabetes')\n",
        "plt.ylabel('Glucose (mmol/L)')\n",
        "plt.title('Relationship between Glucose and Diabetes')\n",
        "plt.show()"
      ]
    },
    {
      "cell_type": "code",
      "execution_count": null,
      "metadata": {
        "id": "JJ4CKjN-GIf3"
      },
      "outputs": [],
      "source": [
        "print(disease.columns)\n",
        "fig = plt.figure(figsize=(17, 6))\n",
        "sns.barplot(x='cigsPerDay',y='heartRate', data=disease)\n",
        "plt.xlabel('Cigs Per Day')\n",
        "plt.ylabel('Heart Rate')\n",
        "plt.title('Relationship between cigsPerDay and heart rate')\n",
        "plt.xticks(rotation=90)\n",
        "plt.show()"
      ]
    },
    {
      "cell_type": "code",
      "execution_count": null,
      "metadata": {
        "id": "lPOvwJWwJy9y"
      },
      "outputs": [],
      "source": [
        "print(disease.columns)\n",
        "fig = plt.figure(figsize=(17, 6))\n",
        "sns.barplot(x='age',y='totChol', data=disease)\n",
        "plt.xlabel('Age')\n",
        "plt.ylabel('Cholesterol')\n",
        "plt.title('Relationship between cholesterol and age')\n",
        "plt.show()"
      ]
    },
    {
      "cell_type": "code",
      "execution_count": null,
      "metadata": {
        "id": "lChP1JVlKxL2"
      },
      "outputs": [],
      "source": [
        "print(disease.columns)\n",
        "fig = plt.figure(figsize=(17, 6))\n",
        "sns.barplot(x='prevalentStroke',y='age', data=disease)\n",
        "plt.xlabel('Prevalent Stroke')\n",
        "plt.ylabel('Age')\n",
        "plt.title('Relationship between prevalentStroke and age')\n",
        "plt.xticks(rotation=90)\n",
        "plt.show()"
      ]
    },
    {
      "cell_type": "code",
      "execution_count": null,
      "metadata": {
        "id": "Zr7LFbVwVK77"
      },
      "outputs": [],
      "source": [
        "from sklearn.model_selection import train_test_split\n",
        "from sklearn.linear_model import LinearRegression\n",
        "from sklearn.metrics import mean_squared_error, r2_score\n"
      ]
    },
    {
      "cell_type": "code",
      "execution_count": null,
      "metadata": {
        "id": "KaA1Q17sKAvQ"
      },
      "outputs": [],
      "source": [
        "X = data[:, :-1]\n",
        "y = data[:, -1]"
      ]
    },
    {
      "cell_type": "code",
      "execution_count": null,
      "metadata": {
        "id": "AGX2gcpmLhXg"
      },
      "outputs": [],
      "source": [
        "X_train, X_test, y_train, y_test = train_test_split(X, y, test_size=0.2, random_state=42)\n",
        "\n"
      ]
    },
    {
      "cell_type": "code",
      "execution_count": null,
      "metadata": {
        "id": "TAI_dGffLq_S"
      },
      "outputs": [],
      "source": [
        "model = LinearRegression()\n",
        "model.fit(X_train, y_train)\n",
        "y_pred = model.predict(X_test)\n",
        "\n",
        "mse = mean_squared_error(y_test, y_pred)\n",
        "r_squared = r2_score(y_test, y_pred)\n",
        "print(\"Mean Squared Error:\", mse)\n",
        "print(\"R-squared:\", r_squared)\n",
        "\n"
      ]
    },
    {
      "cell_type": "code",
      "execution_count": null,
      "metadata": {
        "id": "csCRHdyiNRBu"
      },
      "outputs": [],
      "source": [
        "from sklearn.preprocessing import StandardScaler\n",
        "from sklearn.neighbors import KNeighborsClassifier\n",
        "from sklearn.metrics import accuracy_score\n",
        "\n",
        "data = pd.read_csv(\"HeartDisease.csv\")\n",
        "\n",
        "data.fillna(method='ffill', inplace=True)\n",
        "\n",
        "data['TenYearCHD'] = data['TenYearCHD'].apply(lambda x: 1 if x >= 0.5 else 0)\n",
        "\n",
        "X = data.drop(columns=[\"TenYearCHD\"])\n",
        "y = data[\"TenYearCHD\"]\n",
        "\n",
        "X_train, X_test, y_train, y_test = train_test_split(X, y, test_size=0.2,\n",
        "random_state=42)\n",
        "\n",
        "scaler = StandardScaler()\n",
        "X_train_scaled = scaler.fit_transform(X_train)\n",
        "X_test_scaled = scaler.transform(X_test)\n",
        "\n",
        "k = 5\n",
        "knn_model = KNeighborsClassifier(n_neighbors=k)\n",
        "knn_model.fit(X_train_scaled, y_train)\n",
        "\n",
        "y_pred = knn_model.predict(X_test_scaled)\n",
        "\n",
        "accuracy = accuracy_score(y_test, y_pred)\n",
        "print(\"Accuracy\",accuracy)"
      ]
    },
    {
      "cell_type": "code",
      "execution_count": null,
      "metadata": {
        "id": "XfhhOO7eT7UW"
      },
      "outputs": [],
      "source": [
        "\n",
        "from sklearn.linear_model import LogisticRegression\n",
        "from sklearn.metrics import accuracy_score\n",
        "\n",
        "logistic_model = LogisticRegression()\n",
        "logistic_model.fit(X_train_scaled, y_train)\n",
        "\n",
        "y_pred = logistic_model.predict(X_test_scaled)\n",
        "\n",
        "accuracy = accuracy_score(y_test, y_pred)\n",
        "print(\"Accuracy:\", accuracy)\n"
      ]
    },
    {
      "cell_type": "code",
      "execution_count": null,
      "metadata": {
        "id": "gcC8GzogVZk0"
      },
      "outputs": [],
      "source": [
        "\n",
        "linear_model = LinearRegression()\n",
        "logistic_model = LogisticRegression()\n",
        "knn_model = KNeighborsClassifier(n_neighbors=5)\n",
        "\n",
        "linear_model.fit(X_train_scaled, y_train)\n",
        "logistic_model.fit(X_train_scaled, y_train)\n",
        "knn_model.fit(X_train_scaled, y_train)\n",
        "\n",
        "linear_pred = linear_model.predict(X_test_scaled)\n",
        "logistic_pred = logistic_model.predict(X_test_scaled)\n",
        "knn_pred = knn_model.predict(X_test_scaled)\n",
        "\n",
        "linear_mse = mean_squared_error(y_test, linear_pred)\n",
        "linear_r2 = r2_score(y_test, linear_pred)\n",
        "logistic_accuracy = accuracy_score(y_test, logistic_pred)\n",
        "knn_accuracy = accuracy_score(y_test, knn_pred)\n",
        "\n",
        "results_df = pd.DataFrame({\n",
        "    \"Model\": [\"Linear Regression\", \"Logistic Regression\", \"KNN\"],\n",
        "    \"Evaluation Metric\": [\"Mean Squared Error, R-squared\", \"Accuracy\", \"Accuracy\"],\n",
        "    \"Score\": [f\"{linear_mse:.4f}, {linear_r2:.4f}\", f\"{logistic_accuracy:.4f}\", f\"{knn_accuracy:.4f}\"]\n",
        "})\n",
        "\n",
        "print(results_df)"
      ]
    },
    {
      "cell_type": "code",
      "source": [
        "from IPython.display import HTML\n",
        "\n",
        "html_code = '''\n",
        "<!DOCTYPE html>\n",
        "<html>\n",
        "<head>\n",
        "    <title>Relationship between Age and Total Cholesterol</title>\n",
        "    <script src=\"https://cdn.jsdelivr.net/npm/chart.js\"></script>\n",
        "</head>\n",
        "<body>\n",
        "    <h2>Upload Dataset</h2>\n",
        "    <form action=\"#\" method=\"post\" enctype=\"multipart/form-data\">\n",
        "        <input type=\"file\" id=\"uploadFile\" accept=\".csv\">\n",
        "        <button type=\"button\" onclick=\"handleUpload()\">Upload</button>\n",
        "    </form>\n",
        "    <canvas id=\"scatterChart\" width=\"800\" height=\"400\"></canvas>\n",
        "\n",
        "    <script>\n",
        "        function handleUpload() {\n",
        "            var fileInput = document.getElementById('uploadFile');\n",
        "            var file = fileInput.files[0];\n",
        "            var reader = new FileReader();\n",
        "\n",
        "            reader.onload = function(event) {\n",
        "                var csv = event.target.result;\n",
        "                var data = [];\n",
        "                var lines = csv.split('\\\\n');\n",
        "                for (var i = 1; i < lines.length; i++) {\n",
        "                    var parts = lines[i].split(',');\n",
        "                    if (parts.length >= 2) {\n",
        "                        var age = parseFloat(parts[1]);\n",
        "                        var totChol = parseFloat(parts[9]);\n",
        "                        data.push({x: age, y: totChol});\n",
        "                    }\n",
        "                }\n",
        "                createChart(data);\n",
        "            };\n",
        "\n",
        "            reader.readAsText(file);\n",
        "        }\n",
        "\n",
        "        function createChart(data) {\n",
        "            var ctx = document.getElementById('scatterChart').getContext('2d');\n",
        "            var scatterChart = new Chart(ctx, {\n",
        "                type: 'scatter',\n",
        "                data: {\n",
        "                    datasets: [{\n",
        "                        label: 'Age vs Total Cholesterol',\n",
        "                        data: data,\n",
        "                        backgroundColor: 'rgba(75, 192, 192, 0.5)'\n",
        "                    }]\n",
        "                },\n",
        "                options: {\n",
        "                    scales: {\n",
        "                        x: {\n",
        "                            type: 'linear',\n",
        "                            position: 'bottom',\n",
        "                            title: {\n",
        "                                display: true,\n",
        "                                text: 'Age'\n",
        "                            }\n",
        "                        },\n",
        "                        y: {\n",
        "                            type: 'linear',\n",
        "                            title: {\n",
        "                                display: true,\n",
        "                                text: 'Total Cholesterol'\n",
        "                            }\n",
        "                        }\n",
        "                    }\n",
        "                }\n",
        "            });\n",
        "        }\n",
        "    </script>\n",
        "</body>\n",
        "</html>\n",
        "'''\n",
        "\n",
        "# Display HTML code\n",
        "HTML(html_code)\n"
      ],
      "metadata": {
        "id": "vFB2sOxCO0VO"
      },
      "execution_count": null,
      "outputs": []
    },
    {
      "cell_type": "code",
      "source": [
        "\n",
        "import matplotlib.pyplot as plt\n",
        "\n",
        "df = pd.read_csv('/content/HeartDisease.csv')\n",
        "\n",
        "def calculate_cholesterol_counts(age_min, age_max):\n",
        "    age_filter = (df['age'] >= age_min) & (df['age'] < age_max)\n",
        "    filtered_df = df[age_filter]\n",
        "\n",
        "    chol_less_than_200 = filtered_df[filtered_df['totChol'] < 200].shape[0]\n",
        "    chol_between_200_and_240 = filtered_df[(filtered_df['totChol'] >= 200) & (filtered_df['totChol'] <= 240)].shape[0]\n",
        "    chol_more_than_240 = filtered_df[filtered_df['totChol'] > 240].shape[0]\n",
        "\n",
        "    return chol_less_than_200, chol_between_200_and_240, chol_more_than_240\n",
        "\n",
        "def generate_bar_graph(age_min, age_max):\n",
        "    labels = ['Less than 200', 'Between 200 and 240', 'More than 240']\n",
        "    counts = list(calculate_cholesterol_counts(age_min, age_max))\n",
        "\n",
        "    plt.bar(labels, counts)\n",
        "    plt.xlabel('Cholesterol Range')\n",
        "    plt.ylabel('Number of People')\n",
        "    plt.title(f'Cholesterol Analysis for Age Range\\n(If range is >240 chances of Heart-stroke increases): {age_min}-{age_max}')\n",
        "    plt.show()\n",
        "\n",
        "age_min = int(input(\"Enter the minimum age: \"))\n",
        "age_max = age_min + 10\n",
        "generate_bar_graph(age_min, age_max)\n"
      ],
      "metadata": {
        "id": "YXBvRThwQNeB"
      },
      "execution_count": null,
      "outputs": []
    }
  ],
  "metadata": {
    "colab": {
      "provenance": []
    },
    "kernelspec": {
      "display_name": "Python 3",
      "name": "python3"
    },
    "language_info": {
      "name": "python"
    }
  },
  "nbformat": 4,
  "nbformat_minor": 0
}